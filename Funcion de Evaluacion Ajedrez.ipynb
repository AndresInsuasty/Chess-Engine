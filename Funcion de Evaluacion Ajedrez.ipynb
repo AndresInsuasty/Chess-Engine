{
 "cells": [
  {
   "cell_type": "markdown",
   "metadata": {},
   "source": [
    "# Funcion de evaluacion estatica para tableros de ajedrez\n",
    "\n",
    "## Un Script pensado en evaluar la posicion estatica de un tablero de ajedrez, con intension de crear un motor de juego.\n",
    "Creado por Andres Insuasty\n",
    "andresinsuastyd10@gmail.com"
   ]
  },
  {
   "cell_type": "code",
   "execution_count": 1,
   "metadata": {},
   "outputs": [],
   "source": [
    "import chess\n",
    "import chess.uci\n",
    "import time\n",
    "board = chess.Board() #Crea un juego\n"
   ]
  },
  {
   "cell_type": "code",
   "execution_count": 2,
   "metadata": {},
   "outputs": [],
   "source": [
    "def MovimientoLegal(board):\n",
    "    ListaMov = board.legal_moves # Saca la lista de los movimientos legales en ese turno\n",
    "\n",
    "    movLegal=[]\n",
    "    for i in ListaMov:\n",
    "        movLegal.append(i) #Guarda cada movimiento legal\n",
    "    return movLegal"
   ]
  },
  {
   "cell_type": "markdown",
   "metadata": {},
   "source": [
    "# Funcion para contabilizar piezas en un tablero\n",
    "\n",
    "Se hace esta funcion con la intension de contabilizar una caracteristica del juego, que es el material, la ganancia de materia implica una ventaja sobre el rival por eso es importante conocer con que piezas se cuenta\n",
    "\n",
    "cada peon tiene un valor de 100cp \n",
    "\n",
    "\n",
    "cada caballo tiene un valor de 300cp\n",
    "\n",
    "cada alfil tiene un valor de 310cp\n",
    "\n",
    "cada torre tiene un valor de 500cp\n",
    "\n",
    "cada reina tiene un valor de 900cp"
   ]
  },
  {
   "cell_type": "code",
   "execution_count": 3,
   "metadata": {},
   "outputs": [],
   "source": [
    "def contandoPiezas(board):\n",
    "    #contando los peones blancos\n",
    "    peonW = 0\n",
    "    for i in board.pieces(1,chess.WHITE):\n",
    "        peonW = peonW+1\n",
    "    #print('Peones Blancos',peonW)\n",
    "\n",
    "    #contando los peones negros\n",
    "    peonB = 0\n",
    "    for i in board.pieces(1,chess.BLACK):\n",
    "        peonB = peonB+1\n",
    "    #print('Peones Negros',peonB)\n",
    "    #print(' ')\n",
    "\n",
    "    #contando los caballos blancos\n",
    "    caballoW = 0\n",
    "    for i in board.pieces(2,chess.WHITE):\n",
    "        caballoW = caballoW+1\n",
    "    #print('Caballos Blancos',caballoW)\n",
    "\n",
    "    #contando los caballos negros\n",
    "    caballoB = 0\n",
    "    for i in board.pieces(2,chess.BLACK):\n",
    "        caballoB = caballoB+1\n",
    "    #print('Caballos Negros',caballoB)\n",
    "    #print(' ')\n",
    "\n",
    "    #contando los alfile blancos\n",
    "    alfilW = 0\n",
    "    for i in board.pieces(3,chess.WHITE):\n",
    "        alfilW = alfilW+1\n",
    "    #print('Alfiles Blancos',alfilW)\n",
    "\n",
    "    #contando los alfiles negros\n",
    "    alfilB = 0\n",
    "    for i in board.pieces(3,chess.BLACK):\n",
    "        alfilB = alfilB+1\n",
    "    #print('Alfiles Negros',alfilB)\n",
    "    #print(' ')\n",
    "\n",
    "    #contando las torres blancos\n",
    "    torreW = 0\n",
    "    for i in board.pieces(4,chess.WHITE):\n",
    "        torreW = torreW+1\n",
    "    #print('Torres Blancas',torreW)\n",
    "\n",
    "    #contando las torres negros\n",
    "    torreB = 0\n",
    "    for i in board.pieces(4,chess.BLACK):\n",
    "        torreB = torreB+1\n",
    "    #print('Torres Negras',torreB)\n",
    "    #print(' ')\n",
    "\n",
    "    #contando la Dama Blanca\n",
    "    damaW = 0\n",
    "    for i in board.pieces(5,chess.WHITE):\n",
    "        damaW = damaW+1\n",
    "    #print('Dama Blanca',damaW)\n",
    "\n",
    "    #contando la dama Negra\n",
    "    damaB = 0\n",
    "    for i in board.pieces(5,chess.BLACK):\n",
    "        damaB = damaB+1\n",
    "    #print('Dama Negra',damaB)\n",
    "    #print(' ')\n",
    "\n",
    "    \n",
    "    \n",
    "    return peonW, peonB, caballoW, caballoB, alfilW, alfilB, torreW, torreB, damaW, damaB\n"
   ]
  },
  {
   "cell_type": "code",
   "execution_count": 4,
   "metadata": {},
   "outputs": [
    {
     "data": {
      "text/plain": [
       "(8, 8, 2, 2, 2, 2, 2, 2, 1, 1)"
      ]
     },
     "execution_count": 4,
     "metadata": {},
     "output_type": "execute_result"
    }
   ],
   "source": [
    "contandoPiezas(board)"
   ]
  },
  {
   "cell_type": "markdown",
   "metadata": {},
   "source": [
    "# Funcion para saber que pieza se encuentra en casillas centrales\n",
    "\n",
    "Con esta funcion llamada \"centro\" se puede saber cuales son las piezas que ocupan el centro y que color tienen.\n",
    "\n",
    "la estructura de retorno es: d4, colord4, e4, colore4, d5, colord5, e5, colore5."
   ]
  },
  {
   "cell_type": "code",
   "execution_count": 5,
   "metadata": {},
   "outputs": [],
   "source": [
    "def centro(board):\n",
    "    \n",
    "    colord4 = None\n",
    "    colore4 = None\n",
    "    colord5 = None\n",
    "    colore5 = None\n",
    "    \n",
    "    piezacentrald4 = board.piece_type_at(27) #casilla d4 #se tiene el tipo de pieza\n",
    "    if piezacentrald4 != None:\n",
    "        piezacentrald4Color = board.piece_at(27).color \n",
    "        if piezacentrald4Color == True:\n",
    "            colord4=1 #1 blanco; 0 negro\n",
    "        else:\n",
    "            colord4=0\n",
    "        \n",
    "    piezacentrale4 = board.piece_type_at(28) #casilla e4\n",
    "    if piezacentrale4 != None:\n",
    "        piezacentrale4Color = board.piece_at(28).color \n",
    "        if piezacentrale4Color == True:\n",
    "            colore4=1 #1 blanco; 0 negro\n",
    "        else:\n",
    "            colore4=0\n",
    "        \n",
    "    piezacentrald5 = board.piece_type_at(35) #casilla d5\n",
    "    if piezacentrald5 != None:\n",
    "        piezacentrald5Color = board.piece_at(35).color \n",
    "        if piezacentrald5Color == True:\n",
    "            colord5=1 #1 blanco; 0 negro\n",
    "        else:\n",
    "            colord5=0\n",
    "        \n",
    "    piezacentrale5 = board.piece_type_at(36) #casilla e5\n",
    "    if piezacentrale5 != None:\n",
    "        piezacentrale5Color = board.piece_at(36).color \n",
    "        if piezacentrale5Color == True:\n",
    "            colore5=1 #1 blanco; 0 negro\n",
    "        else:\n",
    "            colore5=0\n",
    "    \n",
    "    return piezacentrald4, colord4, piezacentrale4, colore4, piezacentrald5, colord5, piezacentrale5, colore5"
   ]
  },
  {
   "cell_type": "markdown",
   "metadata": {},
   "source": [
    "# Funcion para saber de peones doblados"
   ]
  },
  {
   "cell_type": "code",
   "execution_count": null,
   "metadata": {},
   "outputs": [],
   "source": [
    "#Escribir funcion para determinar si se tiene peones doblados "
   ]
  },
  {
   "cell_type": "markdown",
   "metadata": {},
   "source": [
    "# Funcion para saber si una torre esta en una columna abierta o semiabierta"
   ]
  },
  {
   "cell_type": "code",
   "execution_count": null,
   "metadata": {},
   "outputs": [],
   "source": [
    "#Escribir funcion para saber si las torres estan en columnas abiertas o semiabiertas"
   ]
  },
  {
   "cell_type": "markdown",
   "metadata": {},
   "source": [
    "# Funcion de evaluacion\n",
    "\n",
    "es la funcion de costo que permite determinar que tanta fuerza o ventaja se tiene dentro del juego"
   ]
  },
  {
   "cell_type": "code",
   "execution_count": 6,
   "metadata": {},
   "outputs": [],
   "source": [
    "def fitness(board):\n",
    "    turno = not board.turn#turno=true(blancas) false(negras), se niega para ver el turno del ultimo movimiento hecho\n",
    "    (peonW, peonB, caballoW, caballoB, alfilW, alfilB, torreW, torreB, damaW, damaB)=contandoPiezas(board)\n",
    "    (piezacentrald4, colord4, piezacentrale4, colore4, piezacentrald5, colord5, piezacentrale5, colore5)=centro(board)\n",
    "    valor=0\n",
    "    valord4=0\n",
    "    valore4=0\n",
    "    valord5=0\n",
    "    valore5=0\n",
    "    alfilRecompensa=0\n",
    "    if turno==True:\n",
    "        valorMaterial = 100*peonW+300*caballoW+310*alfilW+500*torreW+900*damaW\n",
    "        if piezacentrald4!=None:\n",
    "            if colord4==1: #si la pieza en el centro es blanca\n",
    "                if piezacentrald4 == 1:# si es un peon se recompensa con 40cp\n",
    "                    valord4 = 40\n",
    "                if piezacentrald4 == 2:# si es un caballo se recompensa con 20cp\n",
    "                    valord4 = 20\n",
    "                if piezacentrald4 == 3:# si es un alfil se recompensa con 20cp\n",
    "                    valord4 = 20\n",
    "                if piezacentrald4 == 5:# si es una reina se recompensa con 30cp\n",
    "                    valord4 = 30\n",
    "        if piezacentrale4!=None:\n",
    "            if colore4==1: #si la pieza en el centro es blanca\n",
    "                if piezacentrale4 == 1:# si es un peon se recompensa con 40cp\n",
    "                    valore4 = 40\n",
    "                if piezacentrale4 == 2:# si es un caballo se recompensa con 20cp\n",
    "                    valore4 = 20\n",
    "                if piezacentrale4 == 3:# si es un alfil se recompensa con 20cp\n",
    "                    valore4 = 20\n",
    "                if piezacentrale4 == 5:# si es una reina se recompensa con 30cp\n",
    "                    valore4 = 30\n",
    "        if piezacentrald5!=None:\n",
    "            if colord5==1: #si la pieza en el centro es blanca\n",
    "                if piezacentrald5 == 1:# si es un peon se recompensa con 40cp\n",
    "                    valord5 = 40\n",
    "                if piezacentrald5 == 2:# si es un caballo se recompensa con 20cp\n",
    "                    valord5 = 20\n",
    "                if piezacentrald5 == 3:# si es un alfil se recompensa con 20cp\n",
    "                    valord5 = 20\n",
    "                if piezacentrald5 == 5:# si es una reina se recompensa con 30cp\n",
    "                    valord5 = 30\n",
    "        if piezacentrale5!=None:\n",
    "            if colore5==1: #si la pieza en el centro es blanca\n",
    "                if piezacentrale5 == 1:# si es un peon se recompensa con 40cp\n",
    "                    valore5 = 40\n",
    "                if piezacentrale5 == 2:# si es un caballo se recompensa con 20cp\n",
    "                    valore5 = 20\n",
    "                if piezacentrale5 == 3:# si es un alfil se recompensa con 20cp\n",
    "                    valore5 = 20\n",
    "                if piezacentrale5 == 5:# si es una reina se recompensa con 30cp\n",
    "                    valore5 = 30\n",
    "        if alfilW==2:\n",
    "            alfilRecompensa=25 #si se tiene par de alfiles se recompensa con 25cp\n",
    "        \n",
    "        valor = valorMaterial+valord4+valore4+valord5+valore5+alfilRecompensa\n",
    "    else:\n",
    "        valorMaterial = 100*peonB+300*caballoB+310*alfilB+500*torreB+900*damaB\n",
    "        if piezacentrald4!=None:\n",
    "            if colord4==0: #si la pieza en el centro es negra\n",
    "                if piezacentrald4 == 1:# si es un peon se recompensa con 40cp\n",
    "                    valord4 = 40\n",
    "                if piezacentrald4 == 2:# si es un caballo se recompensa con 20cp\n",
    "                    valord4 = 20\n",
    "                if piezacentrald4 == 3:# si es un alfil se recompensa con 20cp\n",
    "                    valord4 = 20\n",
    "                if piezacentrald4 == 5:# si es una reina se recompensa con 30cp\n",
    "                    valord4 = 30\n",
    "        if piezacentrale4!=None:\n",
    "            if colore4==0: #si la pieza en el centro es negra\n",
    "                if piezacentrale4 == 1:# si es un peon se recompensa con 40cp\n",
    "                    valore4 = 40\n",
    "                if piezacentrale4 == 2:# si es un caballo se recompensa con 20cp\n",
    "                    valore4 = 20\n",
    "                if piezacentrale4 == 3:# si es un alfil se recompensa con 20cp\n",
    "                    valore4 = 20\n",
    "                if piezacentrale4 == 5:# si es una reina se recompensa con 30cp\n",
    "                    valore4 = 30\n",
    "        if piezacentrald5!=None:\n",
    "            if colord5==0: #si la pieza en el centro es negra\n",
    "                if piezacentrald5 == 1:# si es un peon se recompensa con 40cp\n",
    "                    valord5 = 40\n",
    "                if piezacentrald5 == 2:# si es un caballo se recompensa con 20cp\n",
    "                    valord5 = 20\n",
    "                if piezacentrald5 == 3:# si es un alfil se recompensa con 20cp\n",
    "                    valord5 = 20\n",
    "                if piezacentrald5 == 5:# si es una reina se recompensa con 30cp\n",
    "                    valord5 = 30\n",
    "        if piezacentrale5!=None:\n",
    "            if colore5==0: #si la pieza en el centro es negra\n",
    "                if piezacentrale5 == 1:# si es un peon se recompensa con 40cp\n",
    "                    valore5 = 40\n",
    "                if piezacentrale5 == 2:# si es un caballo se recompensa con 20cp\n",
    "                    valore5 = 20\n",
    "                if piezacentrale5 == 3:# si es un alfil se recompensa con 20cp\n",
    "                    valore5 = 20\n",
    "                if piezacentrale5 == 5:# si es una reina se recompensa con 30cp\n",
    "                    valore5 = 30\n",
    "        if alfilB==2:\n",
    "            alfilRecompensa=25 #si se tiene par de alfiles se recompensa con 25cp\n",
    "        \n",
    "        valor = valorMaterial+valord4+valore4+valord5+valore5+alfilRecompensa\n",
    "                \n",
    "    return valor\n",
    "    "
   ]
  },
  {
   "cell_type": "markdown",
   "metadata": {},
   "source": [
    "# Funcion para encontrar el mejor movimiento\n",
    "## aun en desarrollo...\n"
   ]
  },
  {
   "cell_type": "code",
   "execution_count": 7,
   "metadata": {},
   "outputs": [],
   "source": [
    "def MejorMov1(board):\n",
    "    movLegal=MovimientoLegal(board)# se encuentra los movimientos legales\n",
    "    cont=0\n",
    "    indice=None\n",
    "    valormax=0 #valor aleatorio\n",
    "    for movimiento in movLegal:\n",
    "        boardtest.push(movimiento)\n",
    "        valor=fitness(boardtest)\n",
    "        if valor>valormax:\n",
    "            valormax=valor\n",
    "            indice=cont\n",
    "        boardtest.pop()\n",
    "        cont=cont+1\n",
    "    return movLegal[indice]"
   ]
  },
  {
   "cell_type": "code",
   "execution_count": 8,
   "metadata": {},
   "outputs": [],
   "source": [
    "def MejorMovimiento(board):\n",
    "    movLegal=MovimientoLegal(board)\n",
    "    boardchild=board\n",
    "    for movimiento in movLegal:\n",
    "        boardchild.push(movimiento) #muevo ejemplo e4\n",
    "        valor=fitness(boardchild) #evaluo funcion con ese movimiento\n",
    "        movimiento2=MejorMov1(boardchild)\n",
    "        "
   ]
  },
  {
   "cell_type": "code",
   "execution_count": 9,
   "metadata": {},
   "outputs": [
    {
     "data": {
      "text/plain": [
       "Move.from_uci('e2e4')"
      ]
     },
     "execution_count": 9,
     "metadata": {},
     "output_type": "execute_result"
    }
   ],
   "source": [
    "\n",
    "MejorMovimiento(board)"
   ]
  },
  {
   "cell_type": "code",
   "execution_count": null,
   "metadata": {},
   "outputs": [],
   "source": []
  }
 ],
 "metadata": {
  "kernelspec": {
   "display_name": "Python 3",
   "language": "python",
   "name": "python3"
  },
  "language_info": {
   "codemirror_mode": {
    "name": "ipython",
    "version": 3
   },
   "file_extension": ".py",
   "mimetype": "text/x-python",
   "name": "python",
   "nbconvert_exporter": "python",
   "pygments_lexer": "ipython3",
   "version": "3.7.0"
  }
 },
 "nbformat": 4,
 "nbformat_minor": 2
}
